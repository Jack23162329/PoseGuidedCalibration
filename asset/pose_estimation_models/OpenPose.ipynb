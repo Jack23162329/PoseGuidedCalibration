{
 "cells": [
  {
   "cell_type": "code",
   "execution_count": 2,
   "id": "4df01bef-a29d-4d26-84eb-5551019c2d4e",
   "metadata": {},
   "outputs": [
    {
     "name": "stderr",
     "output_type": "stream",
     "text": [
      "ERROR: Could not find a version that satisfies the requirement pyopenpose (from versions: none)\n",
      "ERROR: No matching distribution found for pyopenpose\n"
     ]
    }
   ],
   "source": [
    "!pip install pyopenpose"
   ]
  },
  {
   "cell_type": "code",
   "execution_count": 1,
   "id": "bbbe6010-3652-4d2c-a768-67624f983789",
   "metadata": {},
   "outputs": [
    {
     "ename": "ModuleNotFoundError",
     "evalue": "No module named 'pyopenpose'",
     "output_type": "error",
     "traceback": [
      "\u001b[1;31m---------------------------------------------------------------------------\u001b[0m",
      "\u001b[1;31mModuleNotFoundError\u001b[0m                       Traceback (most recent call last)",
      "Cell \u001b[1;32mIn[1], line 3\u001b[0m\n\u001b[0;32m      1\u001b[0m \u001b[38;5;28;01mimport\u001b[39;00m \u001b[38;5;21;01mcv2\u001b[39;00m\n\u001b[0;32m      2\u001b[0m \u001b[38;5;28;01mimport\u001b[39;00m \u001b[38;5;21;01mnumpy\u001b[39;00m \u001b[38;5;28;01mas\u001b[39;00m \u001b[38;5;21;01mnp\u001b[39;00m\n\u001b[1;32m----> 3\u001b[0m \u001b[38;5;28;01mimport\u001b[39;00m \u001b[38;5;21;01mpyopenpose\u001b[39;00m \u001b[38;5;28;01mas\u001b[39;00m \u001b[38;5;21;01mop\u001b[39;00m\n\u001b[0;32m      4\u001b[0m \u001b[38;5;28;01mimport\u001b[39;00m \u001b[38;5;21;01mtime\u001b[39;00m\n\u001b[0;32m      5\u001b[0m \u001b[38;5;28;01mimport\u001b[39;00m \u001b[38;5;21;01msys\u001b[39;00m\n",
      "\u001b[1;31mModuleNotFoundError\u001b[0m: No module named 'pyopenpose'"
     ]
    }
   ],
   "source": [
    "import cv2\n",
    "import numpy as np\n",
    "import pyopenpose as op\n",
    "import time\n",
    "import sys\n",
    "import argparse\n",
    "\n",
    "# Check if running in Jupyter\n",
    "in_jupyter = 'ipykernel' in sys.modules\n",
    "\n",
    "if not in_jupyter:\n",
    "    parser = argparse.ArgumentParser()\n",
    "    parser.add_argument('--input', type=str, default='0', help='Input video file or webcam index')\n",
    "    parser.add_argument('--output', type=str, help='Output video file (optional)')\n",
    "    parser.add_argument('--model_folder', type=str, required=True, help='Path to OpenPose models')\n",
    "    args = parser.parse_args()\n",
    "else:\n",
    "    # Default values for Jupyter\n",
    "    class Args:\n",
    "        def __init__(self):\n",
    "            self.input = '0'\n",
    "            self.output = None\n",
    "            self.model_folder = \"<path_to_openpose_models>\"\n",
    "    args = Args()\n",
    "\n",
    "# Custom OpenPose params\n",
    "params = {\n",
    "    \"model_folder\": args.model_folder,\n",
    "    \"net_resolution\": \"-1x368\"\n",
    "}\n",
    "\n",
    "# Starting OpenPose\n",
    "opWrapper = op.WrapperPython()\n",
    "opWrapper.configure(params)\n",
    "opWrapper.start()\n",
    "\n",
    "# Open video capture\n",
    "cap = cv2.VideoCapture(args.input if not args.input.isdigit() else int(args.input))\n",
    "if not cap.isOpened():\n",
    "    print(\"Error: Could not open video source.\")\n",
    "    sys.exit(1)\n",
    "\n",
    "# Get video properties for potential output\n",
    "frame_width = int(cap.get(cv2.CAP_PROP_FRAME_WIDTH))\n",
    "frame_height = int(cap.get(cv2.CAP_PROP_FRAME_HEIGHT))\n",
    "\n",
    "# Initialize video writer if output is specified\n",
    "out = None\n",
    "if args.output:\n",
    "    fourcc = cv2.VideoWriter_fourcc(*'mp4v')\n",
    "    out = cv2.VideoWriter(args.output, fourcc, 20.0, (frame_width, frame_height))\n",
    "\n",
    "# Lists to store performance metrics and keypoints\n",
    "fps_list = []\n",
    "all_keypoints = []\n",
    "\n",
    "while cap.isOpened():\n",
    "    start_time = time.time()\n",
    "    \n",
    "    ret, frame = cap.read()\n",
    "    if not ret:\n",
    "        print(\"Error: Can't receive frame (stream end?). Exiting ...\")\n",
    "        break\n",
    "    \n",
    "    # Create a new datum\n",
    "    datum = op.Datum()\n",
    "    datum.cvInputData = frame\n",
    "    \n",
    "    # Process the frame\n",
    "    opWrapper.emplaceAndPop(op.VectorDatum([datum]))\n",
    "    \n",
    "    # Extract keypoints\n",
    "    try:\n",
    "        keypoints = datum.poseKeypoints\n",
    "        if keypoints is not None:\n",
    "            all_keypoints.append(keypoints)\n",
    "    except:\n",
    "        pass\n",
    "    \n",
    "    # Get the output image with keypoints drawn\n",
    "    image = datum.cvOutputData\n",
    "    \n",
    "    # Calculate and display FPS\n",
    "    end_time = time.time()\n",
    "    fps = 1 / (end_time - start_time)\n",
    "    fps_list.append(fps)\n",
    "    cv2.putText(image, f'FPS: {fps:.2f}', (10, 30), cv2.FONT_HERSHEY_SIMPLEX, 1, (0, 255, 0), 2)\n",
    "    \n",
    "    # Display the image\n",
    "    cv2.imshow('OpenPose Detection', image)\n",
    "    \n",
    "    # Write frame to output video if specified\n",
    "    if out:\n",
    "        out.write(image)\n",
    "    \n",
    "    if cv2.waitKey(10) & 0xFF == ord('q'):\n",
    "        break\n",
    "\n",
    "# Release resources\n",
    "cap.release()\n",
    "if out:\n",
    "    out.release()\n",
    "cv2.destroyAllWindows()\n",
    "\n",
    "# Print performance metrics\n",
    "average_fps = np.mean(fps_list)\n",
    "print(f\"Average FPS: {average_fps:.2f}\")\n",
    "print(f\"Total frames processed: {len(fps_list)}\")\n",
    "print(f\"Total keypoint sets collected: {len(all_keypoints)}\")"
   ]
  },
  {
   "cell_type": "code",
   "execution_count": null,
   "id": "bc173d8a-8b65-447c-8c53-f84a4bf2e1a7",
   "metadata": {},
   "outputs": [],
   "source": [
    "!pip install pyopenpose"
   ]
  }
 ],
 "metadata": {
  "kernelspec": {
   "display_name": "Python (deeplearning)",
   "language": "python",
   "name": "deeplearning"
  },
  "language_info": {
   "codemirror_mode": {
    "name": "ipython",
    "version": 3
   },
   "file_extension": ".py",
   "mimetype": "text/x-python",
   "name": "python",
   "nbconvert_exporter": "python",
   "pygments_lexer": "ipython3",
   "version": "3.8.19"
  }
 },
 "nbformat": 4,
 "nbformat_minor": 5
}
